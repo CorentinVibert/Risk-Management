{
 "cells": [
  {
   "cell_type": "markdown",
   "metadata": {},
   "source": [
    "# Confidence Intervals\n",
    "\n",
    "## Sample Mean vs. Population Mean\n",
    "\n",
    "Sample means and population means are different. Generally we want to know about a population mean but we can only calculate a sample mean. We then want to use the sample mean to estimate the population mean. We use confidence intervals in an attempt to determine how accurately our sample mean estimates the population mean.\n",
    "\n",
    "## Confidence Interval\n",
    "\n",
    "If I asked you to estimate the average height of a woman in the US, you might do this by measuring 10 women and estimating that the mean of that sample was close to the population."
   ]
  },
  {
   "cell_type": "code",
   "execution_count": 1,
   "metadata": {},
   "outputs": [],
   "source": [
    "import numpy as np\n",
    "import seaborn as sns\n",
    "from scipy import stats\n",
    "import matplotlib.pyplot as plt"
   ]
  },
  {
   "cell_type": "code",
   "execution_count": 7,
   "metadata": {},
   "outputs": [],
   "source": [
    "sns.set()"
   ]
  },
  {
   "cell_type": "code",
   "execution_count": 2,
   "metadata": {},
   "outputs": [
    {
     "name": "stdout",
     "output_type": "stream",
     "text": [
      "[70.65793252 67.57639487 56.27299854 63.95808075 67.10667987 60.3995722\n",
      " 65.32755793 64.54274263 64.02145715 63.12699895]\n",
      "sample mean:  64.29904154070394\n"
     ]
    }
   ],
   "source": [
    "# we'll set a seed here so our runs are consistent\n",
    "np.random.seed(10)\n",
    "\n",
    "# let's define some 'true' population parameters, we'll pretend we don't know these.\n",
    "POPULATION_MU = 64\n",
    "POPULATION_SIGMA = 5\n",
    "\n",
    "# generate our sample by drawing from the population distribution\n",
    "sample_size = 10\n",
    "heights = np.random.normal(POPULATION_MU, POPULATION_SIGMA, sample_size)\n",
    "print(heights)\n",
    "mean_height = np.mean(heights)\n",
    "print('sample mean: ', mean_height)"
   ]
  },
  {
   "cell_type": "markdown",
   "metadata": {},
   "source": [
    "Unfortunately simply reporting the sample mean doesn't do much for us, as we don't know how it relates to the population mean. To get a sense for how it might relate, we can look for how much variance there is in our sample. Higher variance indicates instability and uncertainty."
   ]
  },
  {
   "cell_type": "code",
   "execution_count": 3,
   "metadata": {},
   "outputs": [
    {
     "name": "stdout",
     "output_type": "stream",
     "text": [
      "sample standard deviation:  3.759878018454642\n"
     ]
    }
   ],
   "source": [
    "print('sample standard deviation: ', np.std(heights))"
   ]
  },
  {
   "cell_type": "markdown",
   "metadata": {},
   "source": [
    "This still doesn't do that much for us. To really get a sense of how our sample mean relates to the population mean we need to compute a standard error. The standard error is the measure of the variance of the sample mean.\n",
    "\n",
    "**IMPORTANT**\n",
    "\n",
    "Computing a standard error involves assuming that the way you sample is unbiased and that the data are normal and independent. If these conditions are violated, your standard error will be wrong. There are ways of testing for this and correcting.\n",
    "\n",
    "The formula for standard error is:\n",
    "\n",
    "$$SE = \\frac{\\sigma}{\\sqrt{n}} $$\n",
    "\n",
    "Where $\\sigma$ is the sample standard deviation and $n$ is the number of samples."
   ]
  },
  {
   "cell_type": "code",
   "execution_count": 4,
   "metadata": {},
   "outputs": [
    {
     "name": "stdout",
     "output_type": "stream",
     "text": [
      "standard error:  1.1889778262717268\n"
     ]
    }
   ],
   "source": [
    "SE = np.std(heights) / np.sqrt(sample_size)\n",
    "print('standard error: ', SE)"
   ]
  },
  {
   "cell_type": "markdown",
   "metadata": {},
   "source": [
    "There is a function in `scipy` stats library for calculating the standard error. Note that this function by default contains a degrees of freedom correction that is often not necessary (for large enough samples, it is effectively irrelevant). We can omit the correction by setting the parameter ddof to 0."
   ]
  },
  {
   "cell_type": "code",
   "execution_count": 5,
   "metadata": {},
   "outputs": [
    {
     "data": {
      "text/plain": [
       "1.1889778262717268"
      ]
     },
     "execution_count": 5,
     "metadata": {},
     "output_type": "execute_result"
    }
   ],
   "source": [
    "stats.sem(heights, ddof=0)"
   ]
  },
  {
   "cell_type": "markdown",
   "metadata": {},
   "source": [
    "Assuming our data is normally distributed, we can use the standard error to compute our confidence interval. To do this we first set our desired confidence interval level, say 95%, we then determine how many standard deviations contain 95% of the mass. Turns out that the 95% of the mass lies between -1.96 and 1.96 on a standard normal distribution. When the samples are large enough (generally > 30 is taken as a threshold) the Central Limit Theorem applies and normality can be safely assumed; if sample sizes are smaller, a safer approach is to use a t-distribution with appropriately specified degrees of freedom. The actual way to compute the values is by using a cumulative distribution function (CDF). \n",
    "\n",
    "NOTE: Be careful when applying the Central Limit Theorem, however, as many datasets in finance are fundamentally non-normal and it is not safe to apply the theorem casually or without attention to subtlety.\n",
    "\n",
    "We can visualize the 95% mass bounds here."
   ]
  },
  {
   "cell_type": "code",
   "execution_count": 8,
   "metadata": {},
   "outputs": [
    {
     "data": {
      "image/png": "[encoded data removed]",
      "text/plain": [
       "<Figure size 432x288 with 1 Axes>"
      ]
     },
     "metadata": {},
     "output_type": "display_data"
    }
   ],
   "source": [
    "# set up the x axis\n",
    "x = np.linspace(-5, 5, 100)\n",
    "# the normal distribution\n",
    "y = stats.norm.pdf(x,0,1)\n",
    "plt.plot(x,y)\n",
    "\n",
    "# plot our bounds\n",
    "plt.vlines(-1.96, 0, 1, colors='r', linestyles='dashed')\n",
    "plt.vlines(1.96, 0, 1, colors='r', linestyles='dashed')\n",
    "\n",
    "# shade the area\n",
    "fill_x = np.linspace(-1.96, 1.96, 500)\n",
    "fill_y = stats.norm.pdf(fill_x, 0, 1)\n",
    "plt.fill_between(fill_x, fill_y)\n",
    "\n",
    "plt.xlabel('$\\sigma$')\n",
    "plt.ylabel('Normal PDF');"
   ]
  },
  {
   "cell_type": "markdown",
   "metadata": {},
   "source": [
    "## Here's the trick\n",
    "\n",
    "Now, rather than reporting our sample mean without any sense of the probability of it being correct, we can compute an interval and be much more confident that the population mean lies in that interval. To do this we take our sample mean $\\mu$ and report ($\\mu - 1.96 SE, \\mu + 1.96 SE$).\n",
    "\n",
    "This works because assuming normality, that interval will contain the population mean 95% of the time.\n",
    "\n",
    "## SUBTLETY:\n",
    "\n",
    "In any given case, the true value of the estimate and the bounds of the confidence interval are fixed. It is incorrect to say that \"the national mean female height is between 63 and 65 inches with 95% probability\", but unfortunately this is a very common misinterpretation. Rather, the 95% refers instead to the fact that over many computations of a 95% confidence interval, the true value will be in the interval in 95% of the cases (assuming correct calibration of the confidence interval). But in fact for a single sample and the single confidence interval computed from it, we have no way of assessing the probability that the interval contains the population mean. The visualization below demonstrates it."
   ]
  },
  {
   "cell_type": "code",
   "execution_count": 10,
   "metadata": {},
   "outputs": [
    {
     "data": {
      "image/png": "[encoded data removed]",
      "text/plain": [
       "<Figure size 720x504 with 1 Axes>"
      ]
     },
     "metadata": {},
     "output_type": "display_data"
    }
   ],
   "source": [
    "np.random.seed(8309)\n",
    "n = 100 # number of samples to take\n",
    "samples = [np.random.normal(loc=0, scale=1, size=100) for _ in range(n)]\n",
    "\n",
    "fig, ax = plt.subplots(figsize=(10, 7))\n",
    "for i in np.arange(1, n, 1):\n",
    "    sample_mean = np.mean(samples[i]) # calculate sample mean\n",
    "    se = stats.sem(samples[i]) # calculate sample standard error\n",
    "    h = se*stats.t.ppf((1+0.95)/2, len(samples[i])-1) # calculate t; 2nd param is dof\n",
    "    \n",
    "    sample_ci = [sample_mean - h, sample_mean + h]\n",
    "    if ((sample_ci[0] <= 0) and (0 <= sample_ci[1])):\n",
    "        plt.plot((sample_ci[0], sample_ci[1]), (i,i), color='blue', linewidth=1);\n",
    "        plt.plot(np.mean(samples[i]), i, 'bo');\n",
    "    else:\n",
    "        plt.plot((sample_ci[0], sample_ci[1]), (i, i), color='red', linewidth=1);\n",
    "        plt.plot(np.mean(samples[i]), i, 'ro');\n",
    "plt.axvline(x=0, ymin=0, ymax=1, linestyle='--', label='Population Mean');\n",
    "plt.legend(loc='best')\n",
    "plt.title('100 95% Confidence Intervals for mean of 0');"
   ]
  },
  {
   "cell_type": "markdown",
   "metadata": {},
   "source": [
    "## Further Reading"
   ]
  },
  {
   "cell_type": "code",
   "execution_count": 11,
   "metadata": {},
   "outputs": [
    {
     "name": "stdout",
     "output_type": "stream",
     "text": [
      "sample mean height:  64.29904154070394\n",
      "t-value:  2.2621571627409915\n",
      "standard error:  1.1889778262717268\n",
      "confidence interval:  (61.60938683466314, 66.98869624674474)\n"
     ]
    }
   ],
   "source": [
    "# standard error SE was already calculated\n",
    "t_val = stats.t.ppf((1+0.95)/2, 9) # dof = 10 - 1\n",
    "print('sample mean height: ', mean_height)\n",
    "print('t-value: ', t_val)\n",
    "print('standard error: ', SE)\n",
    "print('confidence interval: ', (mean_height - t_val * SE, mean_height + t_val *SE))"
   ]
  },
  {
   "cell_type": "markdown",
   "metadata": {},
   "source": [
    "Alternatively, we can use the built-in function in `scipy.stats` for computing the interval. Remember to specify the degrees of freedom."
   ]
  },
  {
   "cell_type": "code",
   "execution_count": 12,
   "metadata": {},
   "outputs": [
    {
     "name": "stdout",
     "output_type": "stream",
     "text": [
      "99% confidence interval:  (60.43505913983995, 68.16302394156793)\n",
      "95% confidence interval:  (61.60938683466314, 66.98869624674474)\n",
      "80% confidence interval:  (62.65465103765395, 65.94343204375393)\n"
     ]
    }
   ],
   "source": [
    "print('99% confidence interval: ', stats.t.interval(0.99, df=9, loc=mean_height, scale=SE))\n",
    "print('95% confidence interval: ', stats.t.interval(0.95, df=9, loc=mean_height, scale=SE))\n",
    "print('80% confidence interval: ', stats.t.interval(0.80, df=9, loc=mean_height, scale=SE))"
   ]
  },
  {
   "cell_type": "markdown",
   "metadata": {},
   "source": [
    "Note that as your confidence increases, the interval necessarily widens.\n",
    "\n",
    "Assuming normality, there's also a built-in function that will compute our interval for us. This time we don't need to specify the degrees of freedom. Note that at a corresponding level of confidence, the interval calculated using the normal distribution is narrower than the interval calculated using the t-distribution."
   ]
  },
  {
   "cell_type": "code",
   "execution_count": 13,
   "metadata": {},
   "outputs": [
    {
     "name": "stdout",
     "output_type": "stream",
     "text": [
      "(61.23643761452335, 67.36164546688453)\n",
      "(61.968687822794635, 66.62939525861324)\n",
      "(62.77530514604759, 65.82277793536029)\n"
     ]
    }
   ],
   "source": [
    "print(stats.norm.interval(0.99, loc=mean_height, scale=SE))\n",
    "print(stats.norm.interval(0.95, loc=mean_height, scale=SE))\n",
    "print(stats.norm.interval(0.80, loc=mean_height, scale=SE))"
   ]
  },
  {
   "cell_type": "markdown",
   "metadata": {},
   "source": [
    "## What does this mean?\n",
    "\n",
    "Confidence intervals allow us to set our desired confidence, and then report a range that will likely contain the population mean. The higher our desired confidence, the larger range we report. In general, one can never report a single point value, because the probability that any given point is the true population mean is incredibly small. Let's see how our intervals tighten as we change sample size."
   ]
  },
  {
   "cell_type": "code",
   "execution_count": 14,
   "metadata": {},
   "outputs": [
    {
     "name": "stdout",
     "output_type": "stream",
     "text": [
      "(61.968687822794635, 66.62939525861324)\n",
      "(63.343692029946574, 65.2543910514613)\n",
      "(64.00593339807287, 64.59214968333501)\n"
     ]
    }
   ],
   "source": [
    "np.random.seed(10)\n",
    "\n",
    "sample_sizes = [10, 100, 1000]\n",
    "for s in sample_sizes:\n",
    "    heights = np.random.normal(POPULATION_MU, POPULATION_SIGMA, s)\n",
    "    SE = np.std(heights) / np.sqrt(s)\n",
    "    print(stats.norm.interval(0.95, loc=mean_height, scale=SE))"
   ]
  },
  {
   "cell_type": "markdown",
   "metadata": {},
   "source": [
    "## Visualizing Confidence Intervals"
   ]
  },
  {
   "cell_type": "code",
   "execution_count": 16,
   "metadata": {},
   "outputs": [
    {
     "name": "stdout",
     "output_type": "stream",
     "text": [
      "(62.90974929257278, 64.97103198750024)\n"
     ]
    },
    {
     "data": {
      "image/png": "[encoded data removed]",
      "text/plain": [
       "<Figure size 432x288 with 1 Axes>"
      ]
     },
     "metadata": {},
     "output_type": "display_data"
    }
   ],
   "source": [
    "sample_size = 100\n",
    "heights = np.random.normal(POPULATION_MU, POPULATION_SIGMA, sample_size)\n",
    "SE = np.std(heights) / np.sqrt(sample_size)\n",
    "(l, u) = stats.norm.interval(0.95, loc=np.mean(heights), scale=SE)\n",
    "\n",
    "print((l, u))\n",
    "\n",
    "plt.hist(heights, bins=20)\n",
    "plt.xlabel('Height')\n",
    "plt.ylabel('Frequency')\n",
    "\n",
    "# just for plotting\n",
    "y_height = 5\n",
    "plt.plot([l, u], [y_height, y_height], '-', color='r', linewidth=4, label='Confidence Interval')\n",
    "plt.plot(np.mean(heights), y_height, 'o', color='r', markersize=10);"
   ]
  },
  {
   "cell_type": "markdown",
   "metadata": {},
   "source": [
    "## Miscalibration and Violation of Assumptions\n",
    "\n",
    "The computation of a standard deviation, standard error and confidence interval all rely on certain assumptions. If these assumptions are violated, then the 95% confidence interval will not necessarily contain the population parameter 95% of the time. We say that in this case the confidence interval is miscalibrated. \n",
    "\n",
    "### Example: Autocorrelated Data\n",
    "\n",
    "If your data generating process is autocorrelated, then estimates of standard deviation will be wrong. This is because autocorrelated processes tend to produce more extreme values than normally distributed processes. This is due to new values being dependent on previous values, series that are already far from the mean are likely to stay far from the mean. To check this we'll generated some autocorrelated data according to the following process:\n",
    "\n",
    "$$\\epsilon \\sim \\ \\mathcal{N}(0,1) $$"
   ]
  },
  {
   "cell_type": "code",
   "execution_count": 17,
   "metadata": {},
   "outputs": [
    {
     "data": {
      "image/png": "[encoded data removed]",
      "text/plain": [
       "<Figure size 432x288 with 1 Axes>"
      ]
     },
     "metadata": {},
     "output_type": "display_data"
    }
   ],
   "source": [
    "def generate_autocorrelated_data(theta, mu, sigma, N):\n",
    "    # initialize the array\n",
    "    X = np.zeros((N, 1))\n",
    "    \n",
    "    for t in range(1, N):\n",
    "        # X_t = theta * X_{t-1} + epsilon\n",
    "        X[t] = theta * X[t-1] + np.random.normal(mu, sigma)\n",
    "    return X\n",
    "\n",
    "X = generate_autocorrelated_data(0.5, 0, 1, 100)\n",
    "\n",
    "plt.plot(X);\n",
    "plt.xlabel('t');\n",
    "plt.ylabel('X[t]');"
   ]
  },
  {
   "cell_type": "markdown",
   "metadata": {},
   "source": [
    "It turns out that for larger sample sizes, you should see the sample mean asymptotically converge to zero. This is because the process is still centered around zero, but let's check if that's true. We'll vary the number of samples drawn and look for convergence as we increase sample size."
   ]
  },
  {
   "cell_type": "code",
   "execution_count": 18,
   "metadata": {},
   "outputs": [
    {
     "data": {
      "image/png": "[encoded data removed]",
      "text/plain": [
       "<Figure size 432x288 with 1 Axes>"
      ]
     },
     "metadata": {},
     "output_type": "display_data"
    }
   ],
   "source": [
    "sample_means = np.zeros(200-1)\n",
    "for i in range(1, 200):\n",
    "    X = generate_autocorrelated_data(0.5, 0, 1, i * 10)\n",
    "    sample_means[i-1] = np.mean(X)\n",
    "    \n",
    "plt.bar(range(1, 200), sample_means);\n",
    "plt.xlabel('Sample Size');\n",
    "plt.ylabel('Sample Mean');"
   ]
  },
  {
   "cell_type": "markdown",
   "metadata": {},
   "source": [
    "Definitely looks like there's some convergence, we can also check what the mean of the sample means is."
   ]
  },
  {
   "cell_type": "code",
   "execution_count": 19,
   "metadata": {},
   "outputs": [
    {
     "data": {
      "text/plain": [
       "-0.008679385229444583"
      ]
     },
     "execution_count": 19,
     "metadata": {},
     "output_type": "execute_result"
    }
   ],
   "source": [
    "np.mean(sample_means)"
   ]
  },
  {
   "cell_type": "markdown",
   "metadata": {},
   "source": [
    "Pretty close to zero. We could also derive symbolically that the mean is zero, but let's assume that we've convinced ourselves with the simple empirical analysis. Now that we know the population mean, we can check the calibration of confidence intervals. First we'll write two helper functions which compute a naive interval for some input data, and check whether the interval contains the true mean, 0."
   ]
  },
  {
   "cell_type": "code",
   "execution_count": 22,
   "metadata": {},
   "outputs": [],
   "source": [
    "def compute_unadjusted_interval(X):\n",
    "    T = len(X)\n",
    "    # compute mu and sigma MLE\n",
    "    mu = np.mean(X)\n",
    "    sigma = np.std(X)\n",
    "    SE = sigma / np.sqrt(T)\n",
    "    # Compute the bounds\n",
    "    return stats.norm.interval(0.95, loc=mu, scale=SE)\n",
    "\n",
    "# we'll make a function that returns true when the computed bounds contain 0\n",
    "def check_unadjusted_coverage(X):\n",
    "    l, u = compute_unadjusted_interval(X)\n",
    "    # check to make sure 1 <= 0 <= u\n",
    "    if l <= 0 and u >= 0:\n",
    "        return True\n",
    "    else:\n",
    "        return False"
   ]
  },
  {
   "cell_type": "markdown",
   "metadata": {},
   "source": [
    "Now we'll run many trials, in each we'll sample some data, compute a confidence interval, and then check if the confidence interval contains the population mean. We'll keep a running tally, and we should expect to see 95% of the trials succeed if the intervals are calibrated correctly."
   ]
  },
  {
   "cell_type": "code",
   "execution_count": 23,
   "metadata": {},
   "outputs": [
    {
     "name": "stdout",
     "output_type": "stream",
     "text": [
      "Empirical Coverage:  0.734\n",
      "Expected Coverage:  0.95\n"
     ]
    }
   ],
   "source": [
    "T = 100\n",
    "trials = 500\n",
    "times_correct = 0\n",
    "for i in range(trials):\n",
    "    X = generate_autocorrelated_data(0.5, 0, 1, T)\n",
    "    if check_unadjusted_coverage(X):\n",
    "        times_correct += 1\n",
    "        \n",
    "print('Empirical Coverage: ', times_correct/float(trials))\n",
    "print('Expected Coverage: ', 0.95)"
   ]
  },
  {
   "cell_type": "markdown",
   "metadata": {},
   "source": [
    "Clearly the coverage is wrong. In this case we'd need to do what's known as a Newey-West correction on our standard error estimate to account for the autocorrelation. In practice, it's important to check for the assumptions you make. It is quick and easy to check if your data are stationary (which implies not autocorrelated), and it can save you a lot of pain and suffering to do so. A normality test such as `Jarque Bera` will also be a good idea, as it may detect certain distribution properties which may violate assumptions of many following statistical analyses."
   ]
  },
  {
   "cell_type": "code",
   "execution_count": null,
   "metadata": {},
   "outputs": [],
   "source": []
  }
 ],
 "metadata": {
  "kernelspec": {
   "display_name": "Python 3",
   "language": "python",
   "name": "python3"
  },
  "language_info": {
   "codemirror_mode": {
    "name": "ipython",
    "version": 3
   },
   "file_extension": ".py",
   "mimetype": "text/x-python",
   "name": "python",
   "nbconvert_exporter": "python",
   "pygments_lexer": "ipython3",
   "version": "3.7.6"
  }
 },
 "nbformat": 4,
 "nbformat_minor": 4
}
